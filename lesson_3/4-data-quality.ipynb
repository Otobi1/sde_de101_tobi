{
 "cells": [
  {
   "cell_type": "code",
   "execution_count": 6,
   "metadata": {},
   "outputs": [
    {
     "name": "stdout",
     "output_type": "stream",
     "text": [
      "Requirement already satisfied: polars in c:\\users\\olutu\\anaconda3\\lib\\site-packages (0.20.31)\n",
      "Requirement already satisfied: q in c:\\users\\olutu\\anaconda3\\lib\\site-packages (2.7)\n",
      "Collecting cuallee\n",
      "  Downloading cuallee-0.10.4-py3-none-any.whl.metadata (32 kB)\n",
      "Requirement already satisfied: q in c:\\users\\olutu\\anaconda3\\lib\\site-packages (2.7)\n",
      "Requirement already satisfied: toolz>=0.12.0 in c:\\users\\olutu\\anaconda3\\lib\\site-packages (from cuallee) (0.12.0)\n",
      "Requirement already satisfied: requests>=2.28 in c:\\users\\olutu\\anaconda3\\lib\\site-packages (from cuallee) (2.31.0)\n",
      "Requirement already satisfied: charset-normalizer<4,>=2 in c:\\users\\olutu\\anaconda3\\lib\\site-packages (from requests>=2.28->cuallee) (3.3.2)\n",
      "Requirement already satisfied: idna<4,>=2.5 in c:\\users\\olutu\\anaconda3\\lib\\site-packages (from requests>=2.28->cuallee) (3.7)\n",
      "Requirement already satisfied: urllib3<3,>=1.21.1 in c:\\users\\olutu\\anaconda3\\lib\\site-packages (from requests>=2.28->cuallee) (1.25.4)\n",
      "Requirement already satisfied: certifi>=2017.4.17 in c:\\users\\olutu\\anaconda3\\lib\\site-packages (from requests>=2.28->cuallee) (2024.2.2)\n",
      "Downloading cuallee-0.10.4-py3-none-any.whl (54 kB)\n",
      "   ---------------------------------------- 0.0/54.1 kB ? eta -:--:--\n",
      "   ------- -------------------------------- 10.2/54.1 kB ? eta -:--:--\n",
      "   ------------------------------------- -- 51.2/54.1 kB 660.6 kB/s eta 0:00:01\n",
      "   ---------------------------------------- 54.1/54.1 kB 561.7 kB/s eta 0:00:00\n",
      "Installing collected packages: cuallee\n",
      "Successfully installed cuallee-0.10.4\n"
     ]
    }
   ],
   "source": [
    "!pip install polars -- q\n",
    "!pip install cuallee -- q"
   ]
  },
  {
   "cell_type": "code",
   "execution_count": 7,
   "metadata": {},
   "outputs": [],
   "source": [
    "import polars as pl \n",
    "from cuallee import Check, CheckLevel "
   ]
  },
  {
   "cell_type": "code",
   "execution_count": 9,
   "metadata": {},
   "outputs": [],
   "source": [
    "# Read CSV file into Polars DataFrame\n",
    "df = pl.read_csv(\"./data/sample_data.csv\")"
   ]
  },
  {
   "cell_type": "code",
   "execution_count": 12,
   "metadata": {},
   "outputs": [
    {
     "name": "stdout",
     "output_type": "stream",
     "text": [
      "shape: (2, 12)\n",
      "┌─────┬────────┬────────┬───────┬────────┬────────┬───────┬──────┬────────┬────────┬───────┬───────┐\n",
      "│ id  ┆ timest ┆ check  ┆ level ┆ column ┆ rule   ┆ value ┆ rows ┆ violat ┆ pass_r ┆ pass_ ┆ statu │\n",
      "│ --- ┆ amp    ┆ ---    ┆ ---   ┆ ---    ┆ ---    ┆ ---   ┆ ---  ┆ ions   ┆ ate    ┆ thres ┆ s     │\n",
      "│ i64 ┆ ---    ┆ str    ┆ str   ┆ str    ┆ str    ┆ str   ┆ i64  ┆ ---    ┆ ---    ┆ hold  ┆ ---   │\n",
      "│     ┆ str    ┆        ┆       ┆        ┆        ┆       ┆      ┆ i64    ┆ f64    ┆ ---   ┆ str   │\n",
      "│     ┆        ┆        ┆       ┆        ┆        ┆       ┆      ┆        ┆        ┆ f64   ┆       │\n",
      "╞═════╪════════╪════════╪═══════╪════════╪════════╪═══════╪══════╪════════╪════════╪═══════╪═══════╡\n",
      "│ 1   ┆ 2024-0 ┆ Comple ┆ ERROR ┆ Custom ┆ is_com ┆ N/A   ┆ 108  ┆ 0      ┆ 1.0    ┆ 1.0   ┆ PASS  │\n",
      "│     ┆ 6-20   ┆ teness ┆       ┆ er_ID  ┆ plete  ┆       ┆      ┆        ┆        ┆       ┆       │\n",
      "│     ┆ 17:29: ┆        ┆       ┆        ┆        ┆       ┆      ┆        ┆        ┆       ┆       │\n",
      "│     ┆ 00     ┆        ┆       ┆        ┆        ┆       ┆      ┆        ┆        ┆       ┆       │\n",
      "│ 2   ┆ 2024-0 ┆ Comple ┆ ERROR ┆ Custom ┆ is_uni ┆ N/A   ┆ 108  ┆ 16     ┆ 0.8518 ┆ 1.0   ┆ FAIL  │\n",
      "│     ┆ 6-20   ┆ teness ┆       ┆ er_ID  ┆ que    ┆       ┆      ┆        ┆ 52     ┆       ┆       │\n",
      "│     ┆ 17:29: ┆        ┆       ┆        ┆        ┆       ┆      ┆        ┆        ┆       ┆       │\n",
      "│     ┆ 00     ┆        ┆       ┆        ┆        ┆       ┆      ┆        ┆        ┆       ┆       │\n",
      "└─────┴────────┴────────┴───────┴────────┴────────┴───────┴──────┴────────┴────────┴───────┴───────┘\n"
     ]
    },
    {
     "ename": "AssertionError",
     "evalue": "",
     "output_type": "error",
     "traceback": [
      "\u001b[1;31m---------------------------------------------------------------------------\u001b[0m",
      "\u001b[1;31mAssertionError\u001b[0m                            Traceback (most recent call last)",
      "Cell \u001b[1;32mIn[12], line 12\u001b[0m\n\u001b[0;32m      9\u001b[0m \u001b[38;5;28mprint\u001b[39m(validation_results_df)\n\u001b[0;32m     11\u001b[0m results \u001b[38;5;241m=\u001b[39m validation_results_df[\u001b[38;5;124m\"\u001b[39m\u001b[38;5;124mstatus\u001b[39m\u001b[38;5;124m\"\u001b[39m]\u001b[38;5;241m.\u001b[39mto_list()\n\u001b[1;32m---> 12\u001b[0m \u001b[38;5;28;01massert\u001b[39;00m \u001b[38;5;124m\"\u001b[39m\u001b[38;5;124mFAIL\u001b[39m\u001b[38;5;124m\"\u001b[39m \u001b[38;5;129;01mnot\u001b[39;00m \u001b[38;5;129;01min\u001b[39;00m results \u001b[38;5;241m==\u001b[39m \u001b[38;5;28;01mTrue\u001b[39;00m\n",
      "\u001b[1;31mAssertionError\u001b[0m: "
     ]
    }
   ],
   "source": [
    "# Check for Nulls on column Id and that Customer_ID column is unique\n",
    "#  docs at https://canimus.github.io/cuallee/polars/\n",
    "# you will end up with a dataframe of results, check that the `status` column does not have any \"FAIL\" in it\n",
    "\n",
    "check = Check(CheckLevel.ERROR, \"Completeness\")\n",
    "validation_results_df = (\n",
    "    check.is_complete(\"Customer_ID\").is_unique(\"Customer_ID\").validate(df)\n",
    ")\n",
    "print(validation_results_df)\n",
    "\n",
    "results = validation_results_df[\"status\"].to_list()\n",
    "assert \"FAIL\" not in results == True"
   ]
  },
  {
   "cell_type": "code",
   "execution_count": 13,
   "metadata": {},
   "outputs": [],
   "source": [
    "# function to remove duplicates\n",
    "\n",
    "\n",
    "def remove_duplicates(data, unique_key):\n",
    "    data_unique = []\n",
    "    unique_key_set = set()\n",
    "\n",
    "    for row in data:\n",
    "        if row[unique_key] not in unique_key_set:\n",
    "            data_unique.append(row)\n",
    "            unique_key_set.add(row[unique_key])\n",
    "    else:\n",
    "        print(f\"duplicate customer id\")\n",
    "\n",
    "    return data_unique"
   ]
  }
 ],
 "metadata": {
  "kernelspec": {
   "display_name": "base",
   "language": "python",
   "name": "python3"
  },
  "language_info": {
   "codemirror_mode": {
    "name": "ipython",
    "version": 3
   },
   "file_extension": ".py",
   "mimetype": "text/x-python",
   "name": "python",
   "nbconvert_exporter": "python",
   "pygments_lexer": "ipython3",
   "version": "3.11.7"
  }
 },
 "nbformat": 4,
 "nbformat_minor": 2
}
